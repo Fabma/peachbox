{
 "cells": [
  {
   "cell_type": "code",
   "execution_count": 1,
   "metadata": {
    "collapsed": true
   },
   "outputs": [],
   "source": [
    "import peachbox"
   ]
  },
  {
   "cell_type": "code",
   "execution_count": 2,
   "metadata": {
    "collapsed": true
   },
   "outputs": [],
   "source": [
    "batch_views = peachbox.CassandraDriver()\n",
    "batch_views.set_keyspace('batch_views')"
   ]
  },
  {
   "cell_type": "code",
   "execution_count": 12,
   "metadata": {
    "collapsed": true
   },
   "outputs": [],
   "source": [
    "real_time_views = peachbox.CassandraDriver()\n",
    "real_time_views.set_keyspace('real_time_views')"
   ]
  },
  {
   "cell_type": "code",
   "execution_count": 44,
   "metadata": {
    "collapsed": false
   },
   "outputs": [],
   "source": [
    "review_counts = map(lambda x: (x.true_as_of_seconds, x.review_count), batch_views.execute(\"SELECT true_as_of_seconds, review_count FROM reviews WHERE product_id='B00004U12X'\"))"
   ]
  },
  {
   "cell_type": "code",
   "execution_count": 47,
   "metadata": {
    "collapsed": false
   },
   "outputs": [
    {
     "data": {
      "text/plain": [
       "947289600"
      ]
     },
     "execution_count": 47,
     "metadata": {},
     "output_type": "execute_result"
    }
   ],
   "source": [
    "max(map(lambda x: x[0], review_counts))"
   ]
  },
  {
   "cell_type": "code",
   "execution_count": 53,
   "metadata": {
    "collapsed": false
   },
   "outputs": [
    {
     "data": {
      "text/plain": [
       "[Row(count=0)]"
      ]
     },
     "execution_count": 53,
     "metadata": {},
     "output_type": "execute_result"
    }
   ],
   "source": [
    "sorted(batch_views.execute(\"SELECT COUNT(*) FROM reviews WHERE product_id='B00004U12X' AND true_as_of_seconds>947289600 ALLOW FILTERING\"))"
   ]
  },
  {
   "cell_type": "code",
   "execution_count": 22,
   "metadata": {
    "collapsed": false
   },
   "outputs": [
    {
     "data": {
      "text/plain": [
       "[Row(count=12)]"
      ]
     },
     "execution_count": 22,
     "metadata": {},
     "output_type": "execute_result"
    }
   ],
   "source": [
    "real_time_views.execute(\"SELECT COUNT(*) FROM reviews WHERE product_id='B00004U12X'\\\n",
    "                         AND true_as_of_seconds>123 ALLOW FILTERING\")"
   ]
  },
  {
   "cell_type": "code",
   "execution_count": 3,
   "metadata": {
    "collapsed": false
   },
   "outputs": [
    {
     "data": {
      "text/plain": [
       "[u'test_ks',\n",
       " u'system',\n",
       " u'test_ks2',\n",
       " u'test_ks3',\n",
       " u'system_traces',\n",
       " u'batch_views',\n",
       " u'real_time_views']"
      ]
     },
     "execution_count": 3,
     "metadata": {},
     "output_type": "execute_result"
    }
   ],
   "source": [
    "cassandra.list_keyspaces()"
   ]
  },
  {
   "cell_type": "code",
   "execution_count": 4,
   "metadata": {
    "collapsed": true
   },
   "outputs": [],
   "source": [
    "cassandra.set_keyspace('batch_views')"
   ]
  },
  {
   "cell_type": "code",
   "execution_count": 5,
   "metadata": {
    "collapsed": false
   },
   "outputs": [
    {
     "data": {
      "text/plain": [
       "[u'reviews']"
      ]
     },
     "execution_count": 5,
     "metadata": {},
     "output_type": "execute_result"
    }
   ],
   "source": [
    "cassandra.list_tables()"
   ]
  },
  {
   "cell_type": "code",
   "execution_count": 6,
   "metadata": {
    "collapsed": false
   },
   "outputs": [
    {
     "data": {
      "text/plain": [
       "<cassandra.cluster.PagedResult at 0x7fb22a963290>"
      ]
     },
     "execution_count": 6,
     "metadata": {},
     "output_type": "execute_result"
    }
   ],
   "source": [
    "cassandra.execute(\"SELECT * FROM reviews\")"
   ]
  },
  {
   "cell_type": "code",
   "execution_count": 8,
   "metadata": {
    "collapsed": false
   },
   "outputs": [
    {
     "data": {
      "text/plain": [
       "[Row(partition_key=u'3b841be2-0637-11e5-94c6-0242ac110003', product_id=u'B001GJ7FL6', review_count=49, review_id=u'3850960412607900618', score=3, true_as_of_seconds=926726400),\n",
       " Row(partition_key=u'00939bbd-4e06-3711-e594-c60242ac1100', product_id=u'B00004I9N6', review_count=64, review_id=u'-3159006463555408045', score=5, true_as_of_seconds=931996800),\n",
       " Row(partition_key=u'00a16c6d-a006-3311-e594-c60242ac1100', product_id=u'B00004R80F', review_count=16, review_id=u'-1619284669414746502', score=5, true_as_of_seconds=915321600),\n",
       " Row(partition_key=u'0094c9aa-2006-3511-e594-c60242ac1100', product_id=u'6303332897', review_count=36, review_id=u'2323225445977515918', score=5, true_as_of_seconds=938822400),\n",
       " Row(partition_key=u'0093458f-2006-3511-e594-c60242ac1100', product_id=u'B004SUDQ1I', review_count=4, review_id=u'-5092967497481446473', score=3, true_as_of_seconds=946166400),\n",
       " Row(partition_key=u'008ce3c4-d006-3511-e594-c60242ac1100', product_id=u'B003EM9T4Y', review_count=4, review_id=u'55769433734248223', score=4, true_as_of_seconds=947376000),\n",
       " Row(partition_key=u'008b4765-bc06-3711-e594-c60242ac1100', product_id=u'6303431038', review_count=9, review_id=u'-3877761045812791844', score=5, true_as_of_seconds=946166400),\n",
       " Row(partition_key=u'008b48df-6606-3511-e594-c60242ac1100', product_id=u'B000A6T1IG', review_count=4, review_id=u'6132778257633139304', score=5, true_as_of_seconds=946339200),\n",
       " Row(partition_key=u'51a67850-0634-11e5-94c6-0242ac110003', product_id=u'B00004U12X', review_count=9, review_id=u'3605051722435235381', score=5, true_as_of_seconds=920419200),\n",
       " Row(partition_key=u'00f943d3-e806-4111-e594-c60242ac1100', product_id=u'B00004R79Y', review_count=9, review_id=u'-7542708711240548497', score=3, true_as_of_seconds=943142400)]"
      ]
     },
     "execution_count": 8,
     "metadata": {},
     "output_type": "execute_result"
    }
   ],
   "source": [
    "list(cassandra.execute(\"SELECT * FROM reviews\"))[:10]"
   ]
  },
  {
   "cell_type": "code",
   "execution_count": null,
   "metadata": {
    "collapsed": true
   },
   "outputs": [],
   "source": []
  }
 ],
 "metadata": {
  "kernelspec": {
   "display_name": "Python 2",
   "language": "python",
   "name": "python2"
  },
  "language_info": {
   "codemirror_mode": {
    "name": "ipython",
    "version": 2
   },
   "file_extension": ".py",
   "mimetype": "text/x-python",
   "name": "python",
   "nbconvert_exporter": "python",
   "pygments_lexer": "ipython2",
   "version": "2.7.10"
  }
 },
 "nbformat": 4,
 "nbformat_minor": 0
}
